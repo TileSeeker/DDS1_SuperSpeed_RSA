{
 "cells": [
  {
   "cell_type": "code",
   "execution_count": 44,
   "metadata": {},
   "outputs": [
    {
     "data": {
      "text/plain": [
       "'\\ndef blakley(a, b, n):\\n    #Computes C = a*b mod(n)\\n\\n    K = (a*b) % n\\n    return K\\n'"
      ]
     },
     "execution_count": 44,
     "metadata": {},
     "output_type": "execute_result"
    }
   ],
   "source": [
    "#Blakley Method\n",
    "def blakley_dummy(a, b, n):\n",
    "    #Computes C = a*b mod(n)\n",
    "\n",
    "    K = (a*b) % n\n",
    "    return K"
   ]
  },
  {
   "cell_type": "code",
   "execution_count": 54,
   "metadata": {},
   "outputs": [],
   "source": [
    "import math\n",
    "def blakley(a: int, b: int, n, debug:bool=False):\n",
    "    R = 0\n",
    "   \n",
    "    k = math.ceil(math.log2(a))\n",
    "    if debug:\n",
    "        print(\"a=\",a, \"b=\", b, \"n=\", n, \"k=\", k)\n",
    "\n",
    "    for i in range(0, k):\n",
    "\n",
    "        R = 2*R + (((a >> (k-1-i)) & (1)) * b)\n",
    "\n",
    "        if R >= n:\n",
    "            R = R - n\n",
    "        if R >= n:\n",
    "            R = R - n\n",
    "\n",
    "        if(R >= n):         # If R > n after two iterations encryption will not work, hence take modulo. This is because prime numbers p,q are small. In reality these are huge, and generally R < n\n",
    "            R = R % n\n",
    "\n",
    "    return R"
   ]
  },
  {
   "cell_type": "code",
   "execution_count": 55,
   "metadata": {},
   "outputs": [],
   "source": [
    "#Binary Method\n",
    "def binary_method(M, e, n, debug:bool=False):\n",
    "    \"\"\"\n",
    "    Computes: C = M**e mod(n)\n",
    "    \"\"\"\n",
    "    e_str = bin(e)[2:]\n",
    "    #print(e_str)\n",
    "    if (e_str[0] == '1'):\n",
    "        C = M\n",
    "    else:\n",
    "        C = 1\n",
    "    for i in e_str[1:]:\n",
    "\n",
    "        C = blakley(C, C, n)\n",
    "        if (i == '1'):\n",
    "            C = blakley(M, C, n)\n",
    "        if debug:\n",
    "            print(f\"C:{hex(C)} \\t (i:{i}\")\n",
    "    return C"
   ]
  },
  {
   "cell_type": "code",
   "execution_count": 56,
   "metadata": {},
   "outputs": [
    {
     "name": "stdout",
     "output_type": "stream",
     "text": [
      "0x23026c469918f5ea097f843dc5d5259192f9d3510415841ce834324f4c237ac7\n",
      "0x1681147611252883355104696268717398783921478609739817418752\n"
     ]
    }
   ],
   "source": [
    "M = 0x0000000011111111222222223333333344444444555555556666666677777777\n",
    "n = 0x99925173ad65686715385ea800cd28120288fc70a9bc98dd4c90d676f8ff768d\n",
    "e = 0x0000000000000000000000000000000000000000000000000000000000010001\n",
    "C = binary_method(M, e, n)\n",
    "print(hex(C))"
   ]
  },
  {
   "cell_type": "code",
   "execution_count": 58,
   "metadata": {},
   "outputs": [
    {
     "name": "stdout",
     "output_type": "stream",
     "text": [
      "85\n"
     ]
    }
   ],
   "source": [
    "M = 50\n",
    "n = 143\n",
    "e = 17\n",
    "C = binary_method(M, e, n)\n",
    "print(C)"
   ]
  },
  {
   "cell_type": "code",
   "execution_count": 60,
   "metadata": {},
   "outputs": [
    {
     "name": "stdout",
     "output_type": "stream",
     "text": [
      "0x8f9baf32e8505cbc9a28fed4d5791dce46508c3d1636232bf91f5d0b6632a9f\n"
     ]
    }
   ],
   "source": [
    "M = 0x0a232020207478742e6e695f307470203a2020202020202020202020454d414e\n",
    "n = 0x99925173ad65686715385ea800cd28120288fc70a9bc98dd4c90d676f8ff768d\n",
    "e = 0x0000000000000000000000000000000000000000000000000000000000010001\n",
    "C = binary_method(M, e, n)\n",
    "print(hex(C))"
   ]
  },
  {
   "cell_type": "code",
   "execution_count": 61,
   "metadata": {},
   "outputs": [
    {
     "name": "stdout",
     "output_type": "stream",
     "text": [
      "0xa232020207478742e6e695f307470203a2020202020202020202020454d414e\n",
      "0x2e34cd6e2ee69811030ff42067cd05c2ea27a138dbfac85546b04102e79bd9b4\n"
     ]
    }
   ],
   "source": [
    "M = 0x0a232020207478742e6e695f307470203a2020202020202020202020454d414e\n",
    "n = 0x99925173ad65686715385ea800cd28120288fc70a9bc98dd4c90d676f8ff768d\n",
    "e = 0x0000000000000000000000000000000000000000000000000000000000010001\n",
    "d = 0x005f1e74ae149e7fbf361f1fd0bd3aa69e8b66745f2d50a0b1d82caf648d05c9\n",
    "C = binary_method(M, e, n)\n",
    "M_out = binary_method(C, d, n)\n",
    "print(hex(M))\n",
    "print(hex(M_out))"
   ]
  },
  {
   "cell_type": "code",
   "execution_count": null,
   "metadata": {},
   "outputs": [],
   "source": []
  }
 ],
 "metadata": {
  "kernelspec": {
   "display_name": "Python 3",
   "language": "python",
   "name": "python3"
  },
  "language_info": {
   "codemirror_mode": {
    "name": "ipython",
    "version": 3
   },
   "file_extension": ".py",
   "mimetype": "text/x-python",
   "name": "python",
   "nbconvert_exporter": "python",
   "pygments_lexer": "ipython3",
   "version": "3.11.3"
  }
 },
 "nbformat": 4,
 "nbformat_minor": 2
}
