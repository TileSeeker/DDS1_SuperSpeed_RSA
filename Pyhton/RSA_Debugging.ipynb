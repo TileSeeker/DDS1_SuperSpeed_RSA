{
 "cells": [
  {
   "cell_type": "code",
   "execution_count": 9,
   "metadata": {},
   "outputs": [],
   "source": [
    "#Blakley Method\n",
    "def blakley(a, b, n):\n",
    "    \"\"\"\n",
    "    Computes C = a*b mod(n)\n",
    "    \"\"\"\n",
    "    K = (a*b) % n\n",
    "    return K"
   ]
  },
  {
   "cell_type": "code",
   "execution_count": 32,
   "metadata": {},
   "outputs": [],
   "source": [
    "#Binary Method\n",
    "def binary_method(M, e, n, debug:bool):\n",
    "    \"\"\"\n",
    "    Computes: C = M**e mod(n)\n",
    "    \"\"\"\n",
    "    e_str = bin(e)[2:]\n",
    "    #print(e_str)\n",
    "    if (e_str[0] == '1'):\n",
    "        C = M\n",
    "    else:\n",
    "        C = 1\n",
    "    for i in e_str[1:]:\n",
    "\n",
    "        C = blakley(C, C, n)\n",
    "        if (i == '1'):\n",
    "            C = blakley(M, C, n)\n",
    "        if debug:\n",
    "            print(f\"C:{hex(C)} \\t (i:{i}\")\n",
    "    return C"
   ]
  },
  {
   "cell_type": "markdown",
   "metadata": {},
   "source": []
  },
  {
   "cell_type": "markdown",
   "metadata": {},
   "source": []
  }
 ],
 "metadata": {
  "kernelspec": {
   "display_name": "Python 3",
   "language": "python",
   "name": "python3"
  },
  "language_info": {
   "codemirror_mode": {
    "name": "ipython",
    "version": 3
   },
   "file_extension": ".py",
   "mimetype": "text/x-python",
   "name": "python",
   "nbconvert_exporter": "python",
   "pygments_lexer": "ipython3",
   "version": "3.11.3"
  }
 },
 "nbformat": 4,
 "nbformat_minor": 2
}
