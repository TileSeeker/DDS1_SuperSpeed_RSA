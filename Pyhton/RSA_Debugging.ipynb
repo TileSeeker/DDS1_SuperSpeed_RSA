{
 "cells": [
  {
   "cell_type": "code",
   "execution_count": 8,
   "metadata": {},
   "outputs": [],
   "source": [
    "#Hex Length\n",
    "def bit_length(number):\n",
    "    binary = bin(number)\n",
    "    bit_length = len(binary[2:])\n",
    "    print(binary)\n",
    "    print(bit_length)"
   ]
  },
  {
   "cell_type": "code",
   "execution_count": 28,
   "metadata": {},
   "outputs": [],
   "source": [
    "M = 0x0a232020207478742e6e695f307470203a2020202020202020202020454d414e\n",
    "N = 0x99925173ad65686715385ea800cd28120288fc70a9bc98dd4c90d676f8ff768d\n",
    "e = 0x0000000000000000000000000000000000000000000000000000000000010001\n",
    "C_expected = 0x85EE722363960779206A2B37CC8B64B5FC12A934473FA0204BBAAF714BC90C01"
   ]
  },
  {
   "cell_type": "code",
   "execution_count": 11,
   "metadata": {},
   "outputs": [
    {
     "name": "stdout",
     "output_type": "stream",
     "text": [
      "0b101000100011001000000010000000100000011101000111100001110100001011100110111001101001010111110011000001110100011100000010000000111010001000000010000000100000001000000010000000100000001000000010000000100000001000000010000001000101010011010100000101001110\n",
      "252\n"
     ]
    }
   ],
   "source": [
    "bit_length(M)"
   ]
  },
  {
   "cell_type": "code",
   "execution_count": 12,
   "metadata": {},
   "outputs": [
    {
     "name": "stdout",
     "output_type": "stream",
     "text": [
      "0b1001100110010010010100010111001110101101011001010110100001100111000101010011100001011110101010000000000011001101001010000001001000000010100010001111110001110000101010011011110010011000110111010100110010010000110101100111011011111000111111110111011010001101\n",
      "256\n"
     ]
    }
   ],
   "source": [
    "bit_length(N)"
   ]
  },
  {
   "cell_type": "code",
   "execution_count": 13,
   "metadata": {},
   "outputs": [
    {
     "name": "stdout",
     "output_type": "stream",
     "text": [
      "0b10000000000000001\n",
      "17\n"
     ]
    }
   ],
   "source": [
    "bit_length(e)"
   ]
  },
  {
   "cell_type": "code",
   "execution_count": 15,
   "metadata": {},
   "outputs": [],
   "source": [
    "M_works = 0xb64ce14712586ff4e5aa50459bc31d1c3cf7e94727067505189bc67be52baad9\n",
    "N_works = 0xd7cff677f3d26cfa6d5ca63cf2ddb7d120ae8abaf11e7b833a2338ca07471bd7"
   ]
  },
  {
   "cell_type": "code",
   "execution_count": 16,
   "metadata": {},
   "outputs": [
    {
     "name": "stdout",
     "output_type": "stream",
     "text": [
      "0b1101011111001111111101100111011111110011110100100110110011111010011011010101110010100110001111001111001011011101101101111101000100100000101011101000101010111010111100010001111001111011100000110011101000100011001110001100101000000111010001110001101111010111\n",
      "256\n"
     ]
    }
   ],
   "source": [
    "bit_length(M_works)"
   ]
  },
  {
   "cell_type": "code",
   "execution_count": 18,
   "metadata": {},
   "outputs": [
    {
     "name": "stdout",
     "output_type": "stream",
     "text": [
      "0b1101011111001111111101100111011111110011110100100110110011111010011011010101110010100110001111001111001011011101101101111101000100100000101011101000101010111010111100010001111001111011100000110011101000100011001110001100101000000111010001110001101111010111\n",
      "256\n"
     ]
    }
   ],
   "source": [
    "bit_length(N_works)"
   ]
  },
  {
   "cell_type": "code",
   "execution_count": 22,
   "metadata": {},
   "outputs": [],
   "source": [
    "#Blakley Method\n",
    "def blakley(a, b, n):\n",
    "    \"\"\"\n",
    "    Computes C = a*b mod(n)\n",
    "    \"\"\"\n",
    "    K = (a*b) % n\n",
    "    return K"
   ]
  },
  {
   "cell_type": "code",
   "execution_count": 26,
   "metadata": {},
   "outputs": [],
   "source": [
    "#Binary Method\n",
    "def binary_method(M, e, n):\n",
    "    \"\"\"\n",
    "    Computes: C = M**e mod(n)\n",
    "    \"\"\"\n",
    "    e_str = bin(e)[2:]\n",
    "    #print(e_str)\n",
    "    if (e_str[0] == '1'):\n",
    "        C = M\n",
    "    else:\n",
    "        C = 1\n",
    "    for i in e_str[1:]:\n",
    "        #print(f\"C:{C} \\t i:{i}\")\n",
    "\n",
    "        C = blakley(C, C, n)\n",
    "        if (i == '1'):\n",
    "            C = blakley(M, C, n)\n",
    "    return C"
   ]
  },
  {
   "cell_type": "code",
   "execution_count": 47,
   "metadata": {},
   "outputs": [
    {
     "name": "stdout",
     "output_type": "stream",
     "text": [
      "C Dumb:     \t0x8f9baf32e8505cbc9a28fed4d5791dce46508c3d1636232bf91f5d0b6632a9f\n",
      "C Binary:   \t0x8f9baf32e8505cbc9a28fed4d5791dce46508c3d1636232bf91f5d0b6632a9f\n",
      "My_Result:  \t0x8f9baf32e8505cbc9a28fed4d5791dce46508c3d1636232bf91f5d0b6632a9f\n",
      "C Expected: \t0x85ee722363960779206a2b37cc8b64b5fc12a934473fa0204bbaaf714bc90c01\n"
     ]
    }
   ],
   "source": [
    "M           = 0x0a232020207478742e6e695f307470203a2020202020202020202020454d414e #From Accelerator tb\n",
    "N           = 0x99925173ad65686715385ea800cd28120288fc70a9bc98dd4c90d676f8ff768d #From Accelerator tb\n",
    "e           = 0x0000000000000000000000000000000000000000000000000000000000010001 #From Accelerator tb\n",
    "C_expected  = 0x85EE722363960779206A2B37CC8B64B5FC12A934473FA0204BBAAF714BC90C01 #From Accelerator tb\n",
    "\n",
    "My_Result   = 0x08f9baf32e8505cbc9a28fed4d5791dce46508c3d1636232bf91f5d0b6632a9f #From My RSA Core\n",
    "\n",
    "C_dumb = (M**e)%N\n",
    "C_binary = binary_method(M, e, N)\n",
    "print(f\"C Dumb:     \\t{hex(C_dumb)}\")\n",
    "print(f\"C Binary:   \\t{hex(C_binary)}\")\n",
    "print(f\"My_Result:  \\t{hex(My_Result)}\")\n",
    "print(f\"C Expected: \\t{hex(C_expected)}\")\n"
   ]
  },
  {
   "cell_type": "code",
   "execution_count": null,
   "metadata": {},
   "outputs": [],
   "source": []
  },
  {
   "cell_type": "code",
   "execution_count": null,
   "metadata": {},
   "outputs": [],
   "source": []
  }
 ],
 "metadata": {
  "kernelspec": {
   "display_name": "Python 3",
   "language": "python",
   "name": "python3"
  },
  "language_info": {
   "codemirror_mode": {
    "name": "ipython",
    "version": 3
   },
   "file_extension": ".py",
   "mimetype": "text/x-python",
   "name": "python",
   "nbconvert_exporter": "python",
   "pygments_lexer": "ipython3",
   "version": "3.11.3"
  }
 },
 "nbformat": 4,
 "nbformat_minor": 2
}
