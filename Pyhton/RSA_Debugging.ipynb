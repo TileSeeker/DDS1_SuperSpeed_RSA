{
 "cells": [
  {
   "cell_type": "code",
   "execution_count": 1,
   "metadata": {},
   "outputs": [],
   "source": [
    "#Hex Length\n",
    "def bit_length(number):\n",
    "    binary = bin(number)\n",
    "    bit_length = len(binary[2:])\n",
    "    print(binary)\n",
    "    print(bit_length)"
   ]
  },
  {
   "cell_type": "code",
   "execution_count": 2,
   "metadata": {},
   "outputs": [],
   "source": [
    "M = 0x0a232020207478742e6e695f307470203a2020202020202020202020454d414e\n",
    "N = 0x99925173ad65686715385ea800cd28120288fc70a9bc98dd4c90d676f8ff768d\n",
    "e = 0x0000000000000000000000000000000000000000000000000000000000010001\n",
    "C_expected = 0x85EE722363960779206A2B37CC8B64B5FC12A934473FA0204BBAAF714BC90C01"
   ]
  },
  {
   "cell_type": "code",
   "execution_count": 3,
   "metadata": {},
   "outputs": [
    {
     "name": "stdout",
     "output_type": "stream",
     "text": [
      "0b101000100011001000000010000000100000011101000111100001110100001011100110111001101001010111110011000001110100011100000010000000111010001000000010000000100000001000000010000000100000001000000010000000100000001000000010000001000101010011010100000101001110\n",
      "252\n"
     ]
    }
   ],
   "source": [
    "bit_length(M)"
   ]
  },
  {
   "cell_type": "code",
   "execution_count": 4,
   "metadata": {},
   "outputs": [
    {
     "name": "stdout",
     "output_type": "stream",
     "text": [
      "0b1001100110010010010100010111001110101101011001010110100001100111000101010011100001011110101010000000000011001101001010000001001000000010100010001111110001110000101010011011110010011000110111010100110010010000110101100111011011111000111111110111011010001101\n",
      "256\n"
     ]
    }
   ],
   "source": [
    "bit_length(N)"
   ]
  },
  {
   "cell_type": "code",
   "execution_count": 5,
   "metadata": {},
   "outputs": [
    {
     "name": "stdout",
     "output_type": "stream",
     "text": [
      "0b10000000000000001\n",
      "17\n"
     ]
    }
   ],
   "source": [
    "bit_length(e)"
   ]
  },
  {
   "cell_type": "code",
   "execution_count": 6,
   "metadata": {},
   "outputs": [],
   "source": [
    "M_works = 0xb64ce14712586ff4e5aa50459bc31d1c3cf7e94727067505189bc67be52baad9\n",
    "N_works = 0xd7cff677f3d26cfa6d5ca63cf2ddb7d120ae8abaf11e7b833a2338ca07471bd7"
   ]
  },
  {
   "cell_type": "code",
   "execution_count": 7,
   "metadata": {},
   "outputs": [
    {
     "name": "stdout",
     "output_type": "stream",
     "text": [
      "0b1011011001001100111000010100011100010010010110000110111111110100111001011010101001010000010001011001101111000011000111010001110000111100111101111110100101000111001001110000011001110101000001010001100010011011110001100111101111100101001010111010101011011001\n",
      "256\n"
     ]
    }
   ],
   "source": [
    "bit_length(M_works)"
   ]
  },
  {
   "cell_type": "code",
   "execution_count": 8,
   "metadata": {},
   "outputs": [
    {
     "name": "stdout",
     "output_type": "stream",
     "text": [
      "0b1101011111001111111101100111011111110011110100100110110011111010011011010101110010100110001111001111001011011101101101111101000100100000101011101000101010111010111100010001111001111011100000110011101000100011001110001100101000000111010001110001101111010111\n",
      "256\n"
     ]
    }
   ],
   "source": [
    "bit_length(N_works)"
   ]
  },
  {
   "cell_type": "code",
   "execution_count": 9,
   "metadata": {},
   "outputs": [],
   "source": [
    "#Blakley Method\n",
    "def blakley(a, b, n):\n",
    "    \"\"\"\n",
    "    Computes C = a*b mod(n)\n",
    "    \"\"\"\n",
    "    K = (a*b) % n\n",
    "    return K"
   ]
  },
  {
   "cell_type": "code",
   "execution_count": 10,
   "metadata": {},
   "outputs": [],
   "source": [
    "#Binary Method\n",
    "def binary_method(M, e, n):\n",
    "    \"\"\"\n",
    "    Computes: C = M**e mod(n)\n",
    "    \"\"\"\n",
    "    e_str = bin(e)[2:]\n",
    "    #print(e_str)\n",
    "    if (e_str[0] == '1'):\n",
    "        C = M\n",
    "    else:\n",
    "        C = 1\n",
    "    for i in e_str[1:]:\n",
    "\n",
    "        C = blakley(C, C, n)\n",
    "        if (i == '1'):\n",
    "            C = blakley(M, C, n)\n",
    "        print(f\"C:{hex(C)} \\t (i:{i}\")\n",
    "    return C"
   ]
  },
  {
   "cell_type": "code",
   "execution_count": 11,
   "metadata": {},
   "outputs": [
    {
     "name": "stdout",
     "output_type": "stream",
     "text": [
      "C:0x171d075bdfd834ddf0433a8092d9fb9b823c353b651d89fea0079588538cbb8a \t (i:0\n",
      "C:0x5c88847bc3ac415b5aab84f3992dcd741c67332ee20fb8edb2e8e8aa07d9d5df \t (i:0\n",
      "C:0x5aab92edee941dbe5d93c7ea493db14770f7797eb330a415647fcaf49bbb654c \t (i:0\n",
      "C:0x98be8aabe81a31691813b86ed169fb74c7e32c594f3751bf453453d205559d1e \t (i:0\n",
      "C:0x28ff3549272034572a3fd4a31f8a55e4bb079302116060989a33f3d247ee5476 \t (i:0\n",
      "C:0xf9c2673ca0b22469c2d7154bab05840c80aff4e487703fb048ddb1bd58c196f \t (i:0\n",
      "C:0x2c184016aeb25ec56846a4535230d3a0df457729ffceed18e34e96eff5117d90 \t (i:0\n",
      "C:0x775635e4bad09fbd4103f8edb04284708f41a19bfe4364345a86b72965509db5 \t (i:0\n",
      "C:0x6668ec25bb52bba9759a2a69d8035b82a4197d593237e6f402a1d3939821cdaa \t (i:0\n",
      "C:0x5dd5ef3d4edc7ad07ac23efb9fabfad881af5d7e0c02249ee40f97cc4b0cb5c1 \t (i:0\n",
      "C:0x5cd09741a655d60d426d269ad321fbb3b722a11ab74156622b33b594ce060b4b \t (i:0\n",
      "C:0x1acfc6626e19fae861470773066cadac2e94b5a41acc1252965c517b8016a9d3 \t (i:0\n",
      "C:0x718822b44806ead6b05b043ce9df49acd4823aeb6f2bf52e240ed71e1242ea1d \t (i:0\n",
      "C:0xb1b8a2414d163eef7820e183ac72f85322ef02482532cc43cb0f845f3cc92a4 \t (i:0\n",
      "C:0x7b626e669c10831e777226f702ccfc687315144611b30532b65177b484d3dcbd \t (i:0\n",
      "C:0x8f9baf32e8505cbc9a28fed4d5791dce46508c3d1636232bf91f5d0b6632a9f \t (i:1\n",
      "C Dumb:     \t0x8f9baf32e8505cbc9a28fed4d5791dce46508c3d1636232bf91f5d0b6632a9f\n",
      "C Binary:   \t0x8f9baf32e8505cbc9a28fed4d5791dce46508c3d1636232bf91f5d0b6632a9f\n",
      "My_Result:  \t0x8f9baf32e8505cbc9a28fed4d5791dce46508c3d1636232bf91f5d0b6632a9f\n",
      "C Expected: \t0x85ee722363960779206a2b37cc8b64b5fc12a934473fa0204bbaaf714bc90c01\n"
     ]
    }
   ],
   "source": [
    "M           = 0x0a232020207478742e6e695f307470203a2020202020202020202020454d414e #From Accelerator tb\n",
    "N           = 0x99925173ad65686715385ea800cd28120288fc70a9bc98dd4c90d676f8ff768d #From Accelerator tb\n",
    "e           = 0x0000000000000000000000000000000000000000000000000000000000010001 #From Accelerator tb\n",
    "C_expected  = 0x85EE722363960779206A2B37CC8B64B5FC12A934473FA0204BBAAF714BC90C01 #From Accelerator tb\n",
    "\n",
    "My_Result   = 0x08f9baf32e8505cbc9a28fed4d5791dce46508c3d1636232bf91f5d0b6632a9f #From My RSA Core\n",
    "\n",
    "C_dumb = (M**e)%N\n",
    "C_binary = binary_method(M, e, N)\n",
    "print(f\"C Dumb:     \\t{hex(C_dumb)}\")\n",
    "print(f\"C Binary:   \\t{hex(C_binary)}\")\n",
    "print(f\"My_Result:  \\t{hex(My_Result)}\")\n",
    "print(f\"C Expected: \\t{hex(C_expected)}\")\n"
   ]
  },
  {
   "cell_type": "code",
   "execution_count": 12,
   "metadata": {},
   "outputs": [
    {
     "name": "stdout",
     "output_type": "stream",
     "text": [
      "C:0x53 \t (i:1\n",
      "C:0x7b \t (i:1\n",
      "C:0x72 \t (i:0\n",
      "C:0x7e \t (i:0\n",
      "C:0x3 \t (i:0\n",
      "C:0x32 \t (i:1\n",
      "50\n"
     ]
    }
   ],
   "source": [
    "M = 85\n",
    "d = 113\n",
    "N = 143\n",
    "C = binary_method(M, d, N)\n",
    "print(C)"
   ]
  },
  {
   "cell_type": "code",
   "execution_count": 13,
   "metadata": {},
   "outputs": [
    {
     "name": "stdout",
     "output_type": "stream",
     "text": [
      "C:0x45 \t (i:0\n",
      "C:0x2a \t (i:0\n",
      "C:0x30 \t (i:0\n",
      "C:0x55 \t (i:1\n",
      "85\n"
     ]
    }
   ],
   "source": [
    "M = 50\n",
    "e = 17\n",
    "N = 143\n",
    "C = binary_method(M, e, N)\n",
    "print(C)"
   ]
  },
  {
   "cell_type": "code",
   "execution_count": 14,
   "metadata": {},
   "outputs": [
    {
     "name": "stdout",
     "output_type": "stream",
     "text": [
      "C:0x5f32d79f943fb12a7ccdfffb14a24bf0147e66a9d45a1cf89d379ffbf07e7d71 \t (i:0\n",
      "C:0x156a77573b75a123842d2120d4cbe1d621c08c80fd857d285c916f7adef525a4 \t (i:0\n",
      "C:0x1a90813e887425daa9fbe6f4c7c7948b8f0c5554a3f8febfbe21afe6c573a448 \t (i:0\n",
      "C:0x581f095db920de2f4b51f78e20f24720da225bb134dd02298878f57990687819 \t (i:0\n",
      "C:0x29443cc90d0c5907c73f1761824b17ae2f21af4b45d4cc06f8f01363c142bc10 \t (i:0\n",
      "C:0x8c094cd40a913f6081f444b47a337050e65724c71a0d34936bcc036712d6178d \t (i:0\n",
      "C:0x16f689be45c9c5270258834cefe6b5806a7200e76f70d7dceaf8d66b1f516c5b \t (i:0\n",
      "C:0x27b9d76f8be26579dfe8f6d0da54ec8f173bf9d220d36fab95527deb861ad60b \t (i:0\n",
      "C:0x828ea330b7a1852bf36b683b084709eef6e5f2fcec036cb715ac4803c775f02 \t (i:0\n",
      "C:0x73c246b56909916425dca25859e8bc1063febaedb95449714ad0aa213043caad \t (i:0\n",
      "C:0x22e1364747e665aaffea9953d155dc00f53d052d2a07d1468f68a4b789204299 \t (i:0\n",
      "C:0x90c34d4fbe2e8457d558d71ec740d6c41a5f64729b35ed7b351cf18fb702393c \t (i:0\n",
      "C:0x390107b32ad98200fcd052b83427d08c863f13fbce34dfc3d571e98e38d3443 \t (i:0\n",
      "C:0x7af408e0e7e121706041b15f045c4a4b2c183fc1ba183a120950ce82006c7f32 \t (i:0\n",
      "C:0x8ed45944d2a8eb1de1c1463c49ee58bee9117b2aec05c804453aacde67057faa \t (i:0\n",
      "C:0x5635ab8cfd7390f2a13bd77238e4dfd2089e0216021806db3b4e8bee2b29c735 \t (i:1\n",
      "C Dumb:     \t0x5635ab8cfd7390f2a13bd77238e4dfd2089e0216021806db3b4e8bee2b29c735\n",
      "C Binary:   \t0x5635ab8cfd7390f2a13bd77238e4dfd2089e0216021806db3b4e8bee2b29c735\n",
      "My_Result:  \t0x8f9baf32e8505cbc9a28fed4d5791dce46508c3d1636232bf91f5d0b6632a9f\n",
      "C Expected: \t0x5635ab8cfd7390f2a13bd77238e4dfd2089e0216021806db3b4e8bee2b29c735\n"
     ]
    }
   ],
   "source": [
    "M           = 0x2323232323232323232323232323232323232323232323232323232323232323 #From Accelerator tb\n",
    "N           = 0x99925173ad65686715385ea800cd28120288fc70a9bc98dd4c90d676f8ff768d #From Accelerator tb\n",
    "e           = 0x0000000000000000000000000000000000000000000000000000000000010001 #From Accelerator tb\n",
    "C_expected  = 0x5635AB8CFD7390F2A13BD77238E4DFD2089E0216021806DB3B4E8BEE2B29C735 #From Accelerator tb\n",
    "\n",
    "C_dumb = (M**e)%N\n",
    "C_binary = binary_method(M, e, N)\n",
    "print(f\"C Dumb:     \\t{hex(C_dumb)}\")\n",
    "print(f\"C Binary:   \\t{hex(C_binary)}\")\n",
    "print(f\"My_Result:  \\t{hex(My_Result)}\")\n",
    "print(f\"C Expected: \\t{hex(C_expected)}\")"
   ]
  },
  {
   "cell_type": "code",
   "execution_count": 15,
   "metadata": {},
   "outputs": [
    {
     "data": {
      "text/plain": [
       "'0x8bd9ee778b33d324448f3e7da4599f2995ed107677c219951be78fc6ad6d66e1'"
      ]
     },
     "execution_count": 15,
     "metadata": {},
     "output_type": "execute_result"
    }
   ],
   "source": [
    "a = 0x8ed45944d2a8eb1de1c1463c49ee58bee9117b2aec05c804453aacde67057faa\n",
    "b = a\n",
    "hex(blakley(a, b, N))"
   ]
  },
  {
   "cell_type": "code",
   "execution_count": 16,
   "metadata": {},
   "outputs": [
    {
     "data": {
      "text/plain": [
       "'0x5635ab8cfd7390f2a13bd77238e4dfd2089e0216021806db3b4e8bee2b29c735'"
      ]
     },
     "execution_count": 16,
     "metadata": {},
     "output_type": "execute_result"
    }
   ],
   "source": [
    "a = 0x8bd9ee778b33d324448f3e7da4599f2995ed107677c219951be78fc6ad6d66e1\n",
    "b = 0x2323232323232323232323232323232323232323232323232323232323232323\n",
    "hex(blakley(a, b, N))"
   ]
  },
  {
   "cell_type": "code",
   "execution_count": 17,
   "metadata": {},
   "outputs": [
    {
     "data": {
      "text/plain": [
       "'0x791926f8d56aab7416200646de7eae2a183acc44556def87e8662333e39d07b7'"
      ]
     },
     "execution_count": 17,
     "metadata": {},
     "output_type": "execute_result"
    }
   ],
   "source": [
    "a = 0x8bd9ee778b33d324448f3e7da4599f2995ed107677c219951be78fc6ad6d66e1\n",
    "b = 0x8bd9ee778b33d324448f3e7da4599f2995ed107677c219951be78fc6ad6d66e1\n",
    "hex(blakley(a, b, N))"
   ]
  },
  {
   "cell_type": "code",
   "execution_count": 18,
   "metadata": {},
   "outputs": [
    {
     "data": {
      "text/plain": [
       "255"
      ]
     },
     "execution_count": 18,
     "metadata": {},
     "output_type": "execute_result"
    }
   ],
   "source": [
    "len(bin(0x791926f8d56aab7416200646de7eae2a183acc44556def87e8662333e39d07b7)[2:])"
   ]
  },
  {
   "cell_type": "code",
   "execution_count": 19,
   "metadata": {},
   "outputs": [
    {
     "data": {
      "text/plain": [
       "256"
      ]
     },
     "execution_count": 19,
     "metadata": {},
     "output_type": "execute_result"
    }
   ],
   "source": [
    "len(bin(a)[2:])"
   ]
  },
  {
   "cell_type": "code",
   "execution_count": 21,
   "metadata": {},
   "outputs": [
    {
     "name": "stdout",
     "output_type": "stream",
     "text": [
      "C:0x24931802b9ead447563ec7f0f3d613270a5dd5f3d3df1457b9857de14da1a750 \t (i:0\n",
      "C:0x54cae881d11cd0583ab70be4c66461a4adc84c15d2b713c303e5fa265ebd8617 \t (i:0\n",
      "C:0x77e2bbb8d70f9f8b2688dbe4bb4bfe9b38e70dd05af3c82da98e345ce393f82e \t (i:0\n",
      "C:0x375f443f034c46327180aee5ac3fb8c9ab21653a9847b3b02aa44a85a527078f \t (i:0\n",
      "C:0x1c7a0f1bc77c502e28bdb4c0d09bdf64a202a2fc4ebb583cb4128b24a6e80317 \t (i:0\n",
      "C:0x841eec8f2fc1b3cf7c79f13aefb12753512efca70100b8067aed1003aac62b69 \t (i:0\n",
      "C:0x3508ce17296255dc8daa767bf7c5d93fbbefa7e37f694d0f2b431c8f13751df2 \t (i:0\n",
      "C:0x324f7ac98b1b6e226af5b76722e5bfcc7190f1030b08e37d527a89165e75e48e \t (i:0\n",
      "C:0x76c1de4f6c82c94d4591a0551ff0e266fe4eff7106b7db46d1c6910308dd8d38 \t (i:0\n",
      "C:0x280aede4db799830d4d45bea666f2e7bf0d2de7051e5f7da92bc48b498e64a78 \t (i:0\n",
      "C:0x8b319def58c10e90d5d9669f24a85f6424c0a3dd382ace8654bc8f255ccd4100 \t (i:0\n",
      "C:0x45f0def4a6649bedac798c508909878de9ae992f7ad2798eb9f3e2384cec9c1a \t (i:0\n",
      "C:0x56c8fbed681ec3329623c96b357e3f209b3cabe74e18d7a8ff4c4b4b947447ea \t (i:0\n",
      "C:0x47deba5f58bcb35af6981ce417cc66b8708e567d4675dc244287bcaddac0301f \t (i:0\n",
      "C:0xb90c69f3aec3988efd697f4da7c33adaa408de973b0e334eb7502989130e954 \t (i:0\n",
      "C:0x85ee722363960779206a2b37cc8b64b5fc12a934473fa0204bbaaf714bc90c01 \t (i:1\n",
      "C Dumb:     \t0x85ee722363960779206a2b37cc8b64b5fc12a934473fa0204bbaaf714bc90c01\n",
      "C Binary:   \t0x85ee722363960779206a2b37cc8b64b5fc12a934473fa0204bbaaf714bc90c01\n",
      "My_Result:  \t0x8f9baf32e8505cbc9a28fed4d5791dce46508c3d1636232bf91f5d0b6632a9f\n",
      "C Expected: \t0x85ee722363960779206a2b37cc8b64b5fc12a934473fa0204bbaaf714bc90c01\n"
     ]
    }
   ],
   "source": [
    "#RSA Short Test 1\n",
    "M           = 0x0A23232323232323232323232323232323232323232323232323232323232323 #From Accelerator tb\n",
    "N           = 0x99925173ad65686715385ea800cd28120288fc70a9bc98dd4c90d676f8ff768d #From Accelerator tb\n",
    "e           = 0x0000000000000000000000000000000000000000000000000000000000010001 #From Accelerator tb\n",
    "C_expected  = 0x85EE722363960779206A2B37CC8B64B5FC12A934473FA0204BBAAF714BC90C01 #From Accelerator tb\n",
    "\n",
    "C_dumb = (M**e)%N\n",
    "C_binary = binary_method(M, e, N)\n",
    "print(f\"C Dumb:     \\t{hex(C_dumb)}\")\n",
    "print(f\"C Binary:   \\t{hex(C_binary)}\")\n",
    "//print(f\"My_Result:  \\t{hex(My_Result)}\")\n",
    "print(f\"C Expected: \\t{hex(C_expected)}\")"
   ]
  },
  {
   "cell_type": "code",
   "execution_count": null,
   "metadata": {},
   "outputs": [],
   "source": []
  }
 ],
 "metadata": {
  "kernelspec": {
   "display_name": "Python 3",
   "language": "python",
   "name": "python3"
  },
  "language_info": {
   "codemirror_mode": {
    "name": "ipython",
    "version": 3
   },
   "file_extension": ".py",
   "mimetype": "text/x-python",
   "name": "python",
   "nbconvert_exporter": "python",
   "pygments_lexer": "ipython3",
   "version": "3.11.3"
  }
 },
 "nbformat": 4,
 "nbformat_minor": 2
}
